{
  "nbformat": 4,
  "nbformat_minor": 0,
  "metadata": {
    "colab": {
      "name": "Simple Array Sum.ipynb",
      "version": "0.3.2",
      "provenance": [],
      "collapsed_sections": [],
      "include_colab_link": true
    },
    "kernelspec": {
      "name": "python3",
      "display_name": "Python 3"
    }
  },
  "cells": [
    {
      "cell_type": "markdown",
      "metadata": {
        "id": "view-in-github",
        "colab_type": "text"
      },
      "source": [
        "[View in Colaboratory](https://colab.research.google.com/github/truonghai001/analytics-vidhya-hackathons/blob/master/Simple_Array_Sum.ipynb)"
      ]
    },
    {
      "metadata": {
        "id": "WNJYP8JvMkax",
        "colab_type": "text"
      },
      "cell_type": "markdown",
      "source": [
        "### Simple Array Sum\n",
        "Problem: https://www.hackerrank.com/challenges/simple-array-sum/problem"
      ]
    },
    {
      "metadata": {
        "id": "FMaAqxqMNeW3",
        "colab_type": "code",
        "colab": {}
      },
      "cell_type": "code",
      "source": [
        "# import library\n",
        "import random"
      ],
      "execution_count": 0,
      "outputs": []
    },
    {
      "metadata": {
        "id": "ijUAq4tvL2I9",
        "colab_type": "code",
        "colab": {}
      },
      "cell_type": "code",
      "source": [
        "def array_sum_v1(arr):\n",
        "  \"\"\"\n",
        "  Use built-in sum function of Python\n",
        "  Parameter:\n",
        "  - arr: list of number\n",
        "  \"\"\"\n",
        "  return sum(arr)"
      ],
      "execution_count": 0,
      "outputs": []
    },
    {
      "metadata": {
        "id": "0yJhXwD_OTKW",
        "colab_type": "code",
        "colab": {}
      },
      "cell_type": "code",
      "source": [
        "def array_sum_v2(arr):\n",
        "  \"\"\"\n",
        "  Use Python loop for _ in array\n",
        "  \"\"\"\n",
        "  result = 0\n",
        "  for num in arr:\n",
        "    result += num\n",
        "    \n",
        "  return result"
      ],
      "execution_count": 0,
      "outputs": []
    },
    {
      "metadata": {
        "id": "j1dSpHI1OqjR",
        "colab_type": "code",
        "colab": {}
      },
      "cell_type": "code",
      "source": [
        "def array_sum_v3(arr):\n",
        "  \"\"\"\n",
        "  Use loop by index\n",
        "  \"\"\"\n",
        "  result = 0\n",
        "  num = len(arr)\n",
        "  for idx in range(num):\n",
        "    result += arr[idx]\n",
        "\n",
        "  return result"
      ],
      "execution_count": 0,
      "outputs": []
    },
    {
      "metadata": {
        "id": "TixV7x6YNjcf",
        "colab_type": "code",
        "colab": {}
      },
      "cell_type": "code",
      "source": [
        "# Create random array of 10000 integers in the range [0, 10^9]\n",
        "arr = [random.randint(0, 10**9) for _ in range(10**4)]"
      ],
      "execution_count": 0,
      "outputs": []
    },
    {
      "metadata": {
        "id": "79wK9jPAN5io",
        "colab_type": "code",
        "colab": {
          "base_uri": "https://localhost:8080/",
          "height": 34
        },
        "outputId": "e9a42e14-81c2-4e57-d54c-d3737cfd084b"
      },
      "cell_type": "code",
      "source": [
        "%timeit array_sum_v1(arr)"
      ],
      "execution_count": 7,
      "outputs": [
        {
          "output_type": "stream",
          "text": [
            "10000 loops, best of 3: 78.8 µs per loop\n"
          ],
          "name": "stdout"
        }
      ]
    },
    {
      "metadata": {
        "id": "JD5H6vwtN_Np",
        "colab_type": "code",
        "colab": {
          "base_uri": "https://localhost:8080/",
          "height": 34
        },
        "outputId": "123f3771-c438-4725-964a-a82a3868932a"
      },
      "cell_type": "code",
      "source": [
        "%timeit array_sum_v2(arr)"
      ],
      "execution_count": 8,
      "outputs": [
        {
          "output_type": "stream",
          "text": [
            "1000 loops, best of 3: 437 µs per loop\n"
          ],
          "name": "stdout"
        }
      ]
    },
    {
      "metadata": {
        "id": "5DLvWD8eOjx1",
        "colab_type": "code",
        "colab": {
          "base_uri": "https://localhost:8080/",
          "height": 34
        },
        "outputId": "6d520059-26f0-49f8-d9de-1907fa103ba4"
      },
      "cell_type": "code",
      "source": [
        "%timeit array_sum_v3(arr)"
      ],
      "execution_count": 12,
      "outputs": [
        {
          "output_type": "stream",
          "text": [
            "1000 loops, best of 3: 684 µs per loop\n"
          ],
          "name": "stdout"
        }
      ]
    },
    {
      "metadata": {
        "id": "ojdAZGuVPID5",
        "colab_type": "code",
        "colab": {}
      },
      "cell_type": "code",
      "source": [
        ""
      ],
      "execution_count": 0,
      "outputs": []
    }
  ]
}